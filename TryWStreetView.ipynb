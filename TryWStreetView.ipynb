{
 "cells": [
  {
   "cell_type": "code",
   "execution_count": 45,
   "metadata": {},
   "outputs": [],
   "source": [
    "import re\n",
    "from PIL import Image\n",
    "from io import StringIO, BytesIO\n",
    "from urllib.request import urlopen\n",
    "from selenium import webdriver \n",
    "\n",
    "\n",
    "with open('urls.txt') as f:\n",
    "    content = f.readlines()\n",
    "# you may also want to remove whitespace characters like `\\n` at the end of each line\n",
    "urls = [x.strip('\\n') for x in content] \n",
    "\n",
    "# read in urls and extract all infos\n",
    "lats = []\n",
    "lngs = []\n",
    "headings = []\n",
    "rolls = []\n",
    "\n",
    "for url in urls:\n",
    "    # Parse url from regular expression\n",
    "    rep = '@(.*),(.*),(\\d+)a,(\\d+)y,(.*)h,(.*)t\\/'\n",
    "    result = re.search(rep,url)\n",
    "    lats.append(result.group(1))\n",
    "    lngs.append(result.group(2))\n",
    "    headings.append(result.group(5))\n",
    "    rolls.append(result.group(6))\n",
    "    \n",
    "    ## Download streetview images\n",
    "    image_name = 'StreetViewImages/'+ result.group(1)+ '_'+result.group(1)+'.png'     \n",
    "    downloadImage(url, image_name, 1000, 1000)\n",
    "    \n",
    "    \n",
    "def downloadImage(url, name, image_h = 256, image_w = 256):\n",
    "            \n",
    "    #Create a new image of the size require\n",
    "\n",
    "     # open in webpage\n",
    "    driver = webdriver.Chrome()\n",
    "    driver.implicitly_wait(10)\n",
    "    driver.get(url)      \n",
    "    driver.get_screenshot_as_file(name) \n",
    "    driver.quit()\n",
    "\n",
    "#     # crop as required\n",
    "#     img = Image.open(name)\n",
    "#     box = (0, 0, 2 * image_w, 2 * image_h)\n",
    "#     area = img.crop(box)\n",
    "#     area.save(name)"
   ]
  }
 ],
 "metadata": {
  "kernelspec": {
   "display_name": "Python 3",
   "language": "python",
   "name": "python3"
  },
  "language_info": {
   "codemirror_mode": {
    "name": "ipython",
    "version": 3
   },
   "file_extension": ".py",
   "mimetype": "text/x-python",
   "name": "python",
   "nbconvert_exporter": "python",
   "pygments_lexer": "ipython3",
   "version": "3.6.5"
  }
 },
 "nbformat": 4,
 "nbformat_minor": 2
}
