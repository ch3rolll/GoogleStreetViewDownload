{
 "cells": [
  {
   "cell_type": "code",
   "execution_count": 96,
   "metadata": {},
   "outputs": [],
   "source": [
    "import re\n",
    "from PIL import Image\n",
    "from io import StringIO, BytesIO\n",
    "from urllib.request import urlopen\n",
    "from selenium import webdriver \n",
    "from urllib.parse import urlencode\n",
    "import time\n",
    "\n",
    "    \n",
    "def downloadImagefromURL(url, name, image_h = 256, image_w = 256):\n",
    "            \n",
    "    #Create a new image of the size require\n",
    "\n",
    "     # open in webpage\n",
    "    driver = webdriver.Chrome()\n",
    "    driver.implicitly_wait(10)\n",
    "    driver.get(url)     \n",
    "    time.sleep(1.5) # sleep for 2 seconds\n",
    "    driver.get_screenshot_as_file(name) \n",
    "    driver.quit()\n",
    "\n",
    "#     # crop as required\n",
    "#     img = Image.open(name)\n",
    "#     box = (0, 0, 2 * image_w, 2 * image_h)\n",
    "#     area = img.crop(box)\n",
    "#     area.save(name)\n",
    "\n",
    "def composeSVUrl(lat,lng, width = 512, height = 512, heading = 0, pitch = 0, fov = 120, radius = 50, API_key = ''):\n",
    "\n",
    "    position = str(lat)+','+str(lng)\n",
    "    urlparams = urlencode({'size': '%dx%d' % (width, height),\n",
    "                          'location': position,\n",
    "                          'fov': '%d'%(fov),\n",
    "                          'heading': '%f'%(heading),\n",
    "                          'pitch': '%f'%(pitch),\n",
    "                          'key': API_key})\n",
    "    url = 'http://maps.googleapis.com/maps/api/streetview?' + urlparams\n",
    "    \n",
    "    return url.replace('%2C',',')"
   ]
  },
  {
   "cell_type": "code",
   "execution_count": null,
   "metadata": {},
   "outputs": [],
   "source": [
    "with open('urls.txt') as f:\n",
    "    content = f.readlines()\n",
    "# you may also want to remove whitespace characters like `\\n` at the end of each line\n",
    "urls = [x.strip('\\n') for x in content] \n",
    "\n",
    "# read in urls and extract all infos\n",
    "lats = []\n",
    "lngs = []\n",
    "headings = []\n",
    "pitches = []\n",
    "path = []\n",
    "\n",
    "for url in urls:\n",
    "    # Parse url from regular expression\n",
    "    rep = '@(.*),(.*),(\\d+)a,(\\d+)y,(.*)h,(.*)t\\/'\n",
    "    result = re.search(rep,url)\n",
    "    lats.append(float(result.group(1)))\n",
    "    lngs.append(float(result.group(2)))\n",
    "    headings.append(float(result.group(5)))\n",
    "    pitches.append(float(result.group(6)))\n",
    "    path.append((float(result.group(1)), float(result.group(2))))\n",
    "    \n",
    "#     ## Download streetview images\n",
    "#     image_name = 'StreetViewImages/'+ result.group(1)+ '_'+result.group(1)+'.png'     \n",
    "#     downloadImage(url, image_name, 1000, 1000)\n",
    "    "
   ]
  },
  {
   "cell_type": "code",
   "execution_count": 97,
   "metadata": {},
   "outputs": [],
   "source": [
    "for i in range(len(urls)):\n",
    "    downloadImagefromURL(urls[i],str(i)+'.png')"
   ]
  }
 ],
 "metadata": {
  "kernelspec": {
   "display_name": "Python 3",
   "language": "python",
   "name": "python3"
  },
  "language_info": {
   "codemirror_mode": {
    "name": "ipython",
    "version": 3
   },
   "file_extension": ".py",
   "mimetype": "text/x-python",
   "name": "python",
   "nbconvert_exporter": "python",
   "pygments_lexer": "ipython3",
   "version": "3.6.5"
  }
 },
 "nbformat": 4,
 "nbformat_minor": 2
}
